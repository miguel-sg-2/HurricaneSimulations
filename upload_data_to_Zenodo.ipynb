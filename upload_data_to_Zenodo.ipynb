{
 "cells": [
  {
   "cell_type": "code",
   "execution_count": 1,
   "metadata": {},
   "outputs": [],
   "source": [
    "import requests"
   ]
  },
  {
   "cell_type": "code",
   "execution_count": 2,
   "metadata": {},
   "outputs": [
    {
     "name": "stdout",
     "output_type": "stream",
     "text": [
      "{'created': '2024-02-22T22:02:19.890672+00:00', 'modified': '2024-02-22T22:02:19.949699+00:00', 'id': 10694841, 'conceptrecid': '10694840', 'metadata': {'access_right': 'open', 'prereserve_doi': {'doi': '10.5281/zenodo.10694841', 'recid': 10694841}}, 'title': '', 'links': {'self': 'https://zenodo.org/api/deposit/depositions/10694841', 'html': 'https://zenodo.org/deposit/10694841', 'badge': 'https://zenodo.org/badge/doi/.svg', 'files': 'https://zenodo.org/api/deposit/depositions/10694841/files', 'bucket': 'https://zenodo.org/api/files/ae5bfeb3-2457-468d-a8d5-83f8319a0ad1', 'latest_draft': 'https://zenodo.org/api/deposit/depositions/10694841', 'latest_draft_html': 'https://zenodo.org/deposit/10694841', 'publish': 'https://zenodo.org/api/deposit/depositions/10694841/actions/publish', 'edit': 'https://zenodo.org/api/deposit/depositions/10694841/actions/edit', 'discard': 'https://zenodo.org/api/deposit/depositions/10694841/actions/discard', 'newversion': 'https://zenodo.org/api/deposit/depositions/10694841/actions/newversion', 'registerconceptdoi': 'https://zenodo.org/api/deposit/depositions/10694841/actions/registerconceptdoi'}, 'record_id': 10694841, 'owner': 86157, 'files': [], 'state': 'unsubmitted', 'submitted': False}\n",
      "https://zenodo.org/api/files/ae5bfeb3-2457-468d-a8d5-83f8319a0ad1\n"
     ]
    }
   ],
   "source": [
    "\n",
    "\n",
    "# params = {'access_token': 'QP6jWyVMiTEaSFyvz2P6hJ3cuUkS48F0qEkWcO2mJZCFEjhmfdMyretTbaqL'}\n",
    "params = {'access_token': '4GLGXM9LvGmQhzCHCgHCWZN0Hi5LiGZgM39lkL9plOE9mIMROVkoG0mRKc2Z'}\n",
    "\n",
    "# Create the deposit resource\n",
    "url = \"https://zenodo.org/api/deposit/depositions\"\n",
    "headers = {\"Content-Type\": \"application/json\"}\n",
    "\n",
    "res = requests.post(\n",
    "    url, \n",
    "    json={},\n",
    "    # Headers are not necessary here since \"requests\" automatically\n",
    "    # adds \"Content-Type: application/json\", because we're using\n",
    "    # the \"json=\" keyword argument...\n",
    "    # headers=headers, \n",
    "    params=params,\n",
    ")\n",
    "print(res.json())\n",
    "\n",
    "# In the new files API we use a PUT request to a 'bucket' link, which is the container for files\n",
    "# bucket url looks like this: 'https://sandbox.zenodo.org/api/files/12341234-abcd-1234-abcd-0e62efee00c0' \n",
    "bucket_url = res.json()['links']['bucket']\n",
    "\n",
    "print(bucket_url)\n",
    "\n"
   ]
  },
  {
   "cell_type": "code",
   "execution_count": 3,
   "metadata": {},
   "outputs": [],
   "source": [
    "pathData_cat1 = \"/projects/storm/mgomez/idealSims/sst_26_skipd01_skipCoLES_ndg/Results/\"\n",
    "pathData_cat2 = \"/projects/storm/mgomez/idealSims/sst_27real_skipd01_skipCoLES_ndg/Results/\"\n",
    "pathData_cat3 = \"/projects/storm/mgomez/idealSims/sst_30_skipd01_skipCoLES_ndg/Results/\"\n"
   ]
  },
  {
   "cell_type": "code",
   "execution_count": 4,
   "metadata": {},
   "outputs": [
    {
     "name": "stdout",
     "output_type": "stream",
     "text": [
      "{'created': '2024-02-22T22:34:57.734120+00:00', 'updated': '2024-02-22T22:43:35.655129+00:00', 'version_id': '63a80456-2443-4b12-98d8-7dab64ea8b00', 'key': 'Cat1_storm.tar.gz', 'size': 8875512570, 'mimetype': 'application/gzip', 'checksum': 'md5:2bfe7b1c81a99bf8f75f76b18af4880d', 'is_head': True, 'delete_marker': False, 'links': {'self': 'https://zenodo.org/api/files/ae5bfeb3-2457-468d-a8d5-83f8319a0ad1/Cat1_storm.tar.gz', 'version': 'https://zenodo.org/api/files/ae5bfeb3-2457-468d-a8d5-83f8319a0ad1/Cat1_storm.tar.gz?versionId=63a80456-2443-4b12-98d8-7dab64ea8b00', 'uploads': 'https://zenodo.org/api/files/ae5bfeb3-2457-468d-a8d5-83f8319a0ad1/Cat1_storm.tar.gz?uploads'}}\n"
     ]
    }
   ],
   "source": [
    "# We pass the file object (fp) directly to request as 'data' for stream upload\n",
    "# the target URL is the URL of the bucket and the desired filename on Zenodo seprated by slash\n",
    "with open(pathData_cat1 + \"Cat1_storm.tar.gz\", 'rb') as fp:\n",
    "    res = requests.put(\n",
    "        bucket_url + '/Cat1_storm.tar.gz', \n",
    "        data=fp,\n",
    "        # No headers included in the request, since it's a raw byte request\n",
    "        params=params,\n",
    "    )\n",
    "print(res.json())"
   ]
  },
  {
   "cell_type": "code",
   "execution_count": 5,
   "metadata": {},
   "outputs": [
    {
     "name": "stdout",
     "output_type": "stream",
     "text": [
      "{'created': '2024-02-22T23:36:42.176089+00:00', 'updated': '2024-02-22T23:47:32.808124+00:00', 'version_id': '43255c0f-3464-4041-9e38-fc4d4cd35ec2', 'key': 'Cat2_storm.tar.gz', 'size': 15645123640, 'mimetype': 'application/gzip', 'checksum': 'md5:af5a77bd588d2a6ee95c6c55c625219a', 'is_head': True, 'delete_marker': False, 'links': {'self': 'https://zenodo.org/api/files/ae5bfeb3-2457-468d-a8d5-83f8319a0ad1/Cat2_storm.tar.gz', 'version': 'https://zenodo.org/api/files/ae5bfeb3-2457-468d-a8d5-83f8319a0ad1/Cat2_storm.tar.gz?versionId=43255c0f-3464-4041-9e38-fc4d4cd35ec2', 'uploads': 'https://zenodo.org/api/files/ae5bfeb3-2457-468d-a8d5-83f8319a0ad1/Cat2_storm.tar.gz?uploads'}}\n"
     ]
    }
   ],
   "source": [
    "# We pass the file object (fp) directly to request as 'data' for stream upload\n",
    "# the target URL is the URL of the bucket and the desired filename on Zenodo seprated by slash\n",
    "with open(pathData_cat2 + \"Cat2_storm.tar.gz\", 'rb') as fp:\n",
    "    res = requests.put(\n",
    "        bucket_url + '/Cat2_storm.tar.gz', \n",
    "        data=fp,\n",
    "        # No headers included in the request, since it's a raw byte request\n",
    "        params=params,\n",
    "    )\n",
    "print(res.json())"
   ]
  },
  {
   "cell_type": "code",
   "execution_count": 6,
   "metadata": {},
   "outputs": [
    {
     "name": "stdout",
     "output_type": "stream",
     "text": [
      "{'created': '2024-02-23T00:23:30.429963+00:00', 'updated': '2024-02-23T00:38:14.942958+00:00', 'version_id': '405f7044-c07a-4185-973e-5bc69e4fda36', 'key': 'Cat3_storm.tar.gz', 'size': 14642168291, 'mimetype': 'application/gzip', 'checksum': 'md5:117d7cafaafe56f541e96e43490dc223', 'is_head': True, 'delete_marker': False, 'links': {'self': 'https://zenodo.org/api/files/ae5bfeb3-2457-468d-a8d5-83f8319a0ad1/Cat3_storm.tar.gz', 'version': 'https://zenodo.org/api/files/ae5bfeb3-2457-468d-a8d5-83f8319a0ad1/Cat3_storm.tar.gz?versionId=405f7044-c07a-4185-973e-5bc69e4fda36', 'uploads': 'https://zenodo.org/api/files/ae5bfeb3-2457-468d-a8d5-83f8319a0ad1/Cat3_storm.tar.gz?uploads'}}\n"
     ]
    }
   ],
   "source": [
    "# We pass the file object (fp) directly to request as 'data' for stream upload\n",
    "# the target URL is the URL of the bucket and the desired filename on Zenodo seprated by slash\n",
    "with open(pathData_cat3 + \"Cat3_storm.tar.gz\", 'rb') as fp:\n",
    "    res = requests.put(\n",
    "        bucket_url + '/Cat3_storm.tar.gz', \n",
    "        data=fp,\n",
    "        # No headers included in the request, since it's a raw byte request\n",
    "        params=params,\n",
    "    )\n",
    "print(res.json())\n"
   ]
  },
  {
   "cell_type": "code",
   "execution_count": null,
   "metadata": {},
   "outputs": [],
   "source": [
    "print('Modify metadata in the new \"Untitled\" upload directly through the Zenodo web page')\n",
    "\n",
    "stop"
   ]
  },
  {
   "cell_type": "code",
   "execution_count": null,
   "metadata": {},
   "outputs": [],
   "source": [
    "#%% Modify metadata in the new \"Upload\" directly through the Zenodo web page"
   ]
  },
  {
   "cell_type": "code",
   "execution_count": null,
   "metadata": {},
   "outputs": [],
   "source": [
    "data = {\n",
    "     'metadata': {\n",
    "         'title': 'Supporting files for simulations in \"Wind fields in Category 1-3 tropical cyclones are not fully represented in wind turbine design standards\"',\n",
    "         'upload_type': 'dataset',\n",
    "         'description': 'Upload data for each tropical cyclone',\n",
    "         'creators': [{'name': 'Doe, John',\n",
    "                       'affiliation': 'Zenodo'}]\n",
    "     }\n",
    " }\n",
    "r = requests.put('https://zenodo.org/api/deposit/depositions/%s' % deposition_id,\n",
    "                  params={'access_token': ACCESS_TOKEN}, data=json.dumps(data),\n",
    "                  headers=headers)\n",
    "r.status_code"
   ]
  },
  {
   "cell_type": "code",
   "execution_count": null,
   "metadata": {},
   "outputs": [],
   "source": [
    "r = requests.post('https://zenodo.org/api/deposit/depositions/%s/actions/publish' % deposition_id,\n",
    "                      params={'access_token': ACCESS_TOKEN} )\n",
    "r.status_code"
   ]
  },
  {
   "cell_type": "code",
   "execution_count": null,
   "metadata": {},
   "outputs": [],
   "source": [
    "\n",
    "\n",
    "# params = {'access_token': '<your-access-token>'}\n",
    "\n",
    "# # Create the deposit resource\n",
    "# url = \"https://sandbox.zenodo.org/api/deposit/depositions\"\n",
    "# headers = {\"Content-Type\": \"application/json\"}\n",
    "\n",
    "# res = requests.post(\n",
    "#     url, \n",
    "#     json={},\n",
    "#     # Headers are not necessary here since \"requests\" automatically\n",
    "#     # adds \"Content-Type: application/json\", because we're using\n",
    "#     # the \"json=\" keyword argument...\n",
    "#     # headers=headers, \n",
    "#     params=params,\n",
    "# )\n",
    "# print(res.json())\n",
    "\n",
    "# # In the new files API we use a PUT request to a 'bucket' link, which is the container for files\n",
    "# # bucket url looks like this: 'https://sandbox.zenodo.org/api/files/12341234-abcd-1234-abcd-0e62efee00c0' \n",
    "# bucket_url = res.json()['links']['bucket']\n",
    "\n",
    "# # We pass the file object (fp) directly to request as 'data' for stream upload\n",
    "# # the target URL is the URL of the bucket and the desired filename on Zenodo seprated by slash\n",
    "# with open('/path/to/my-file.zip', 'rb') as fp:\n",
    "#     res = requests.put(\n",
    "#         bucket_url + '/my-file.zip', \n",
    "#         data=fp,\n",
    "#         # No headers included in the request, since it's a raw byte request\n",
    "#         params=params,\n",
    "#     )\n",
    "# print(res.json())"
   ]
  }
 ],
 "metadata": {
  "kernelspec": {
   "display_name": "Python 3 (ipykernel)",
   "language": "python",
   "name": "python3"
  },
  "language_info": {
   "codemirror_mode": {
    "name": "ipython",
    "version": 3
   },
   "file_extension": ".py",
   "mimetype": "text/x-python",
   "name": "python",
   "nbconvert_exporter": "python",
   "pygments_lexer": "ipython3",
   "version": "3.12.0"
  }
 },
 "nbformat": 4,
 "nbformat_minor": 4
}
